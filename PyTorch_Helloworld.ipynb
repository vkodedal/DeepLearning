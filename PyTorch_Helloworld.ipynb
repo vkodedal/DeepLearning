{
  "nbformat": 4,
  "nbformat_minor": 0,
  "metadata": {
    "colab": {
      "name": "Untitled3.ipynb",
      "version": "0.3.2",
      "provenance": [],
      "include_colab_link": true
    },
    "kernelspec": {
      "name": "python3",
      "display_name": "Python 3"
    }
  },
  "cells": [
    {
      "cell_type": "markdown",
      "metadata": {
        "id": "view-in-github",
        "colab_type": "text"
      },
      "source": [
        "<a href=\"https://colab.research.google.com/github/vkodedal/DeepLearning/blob/master/PyTorch_Helloworld.ipynb\" target=\"_parent\"><img src=\"https://colab.research.google.com/assets/colab-badge.svg\" alt=\"Open In Colab\"/></a>"
      ]
    },
    {
      "metadata": {
        "id": "7V1WokwwmiZo",
        "colab_type": "text"
      },
      "cell_type": "markdown",
      "source": [
        "** Simple pytorch program with a linear layer **"
      ]
    },
    {
      "metadata": {
        "id": "nLuXbLeaZ9U4",
        "colab_type": "code",
        "colab": {}
      },
      "cell_type": "code",
      "source": [
        "import torch\n",
        "import numpy as np\n",
        "import torch.optim"
      ],
      "execution_count": 0,
      "outputs": []
    },
    {
      "metadata": {
        "id": "GDhtNOAgaH8A",
        "colab_type": "code",
        "colab": {}
      },
      "cell_type": "code",
      "source": [
        "xs = np.array([-1.0,  0.0, 1.0, 2.0, 3.0, 4.0], dtype=float)\n",
        "ys = np.array([-3.0, -1.0, 1.0, 3.0, 5.0, 7.0], dtype=float)"
      ],
      "execution_count": 0,
      "outputs": []
    },
    {
      "metadata": {
        "id": "esjZ_vpHgOcO",
        "colab_type": "text"
      },
      "cell_type": "markdown",
      "source": [
        "**Reshape both input and output variables to batchsize * input dim **"
      ]
    },
    {
      "metadata": {
        "id": "W0U16NlOaTWQ",
        "colab_type": "code",
        "colab": {}
      },
      "cell_type": "code",
      "source": [
        "xs = xs.reshape(6,1)\n",
        "ys = ys.reshape(6,1)"
      ],
      "execution_count": 0,
      "outputs": []
    },
    {
      "metadata": {
        "id": "zmnSu99cmaq9",
        "colab_type": "text"
      },
      "cell_type": "markdown",
      "source": [
        "**Convert numpy ndarrays to pytorch Tensors**"
      ]
    },
    {
      "metadata": {
        "id": "G8IzvcwXdrzs",
        "colab_type": "code",
        "colab": {}
      },
      "cell_type": "code",
      "source": [
        "x = torch.from_numpy(xs)\n",
        "y = torch.from_numpy(ys)"
      ],
      "execution_count": 0,
      "outputs": []
    },
    {
      "metadata": {
        "id": "J60SSbSfa1Js",
        "colab_type": "code",
        "colab": {}
      },
      "cell_type": "code",
      "source": [
        "model = torch.nn.Sequential(torch.nn.Linear(1,1))"
      ],
      "execution_count": 0,
      "outputs": []
    },
    {
      "metadata": {
        "id": "BamNSOVwmxXP",
        "colab_type": "text"
      },
      "cell_type": "markdown",
      "source": [
        "**pytorch is considering x and y as doubles, changing model to use double**"
      ]
    },
    {
      "metadata": {
        "id": "YbSGCmIHd1K0",
        "colab_type": "code",
        "colab": {}
      },
      "cell_type": "code",
      "source": [
        "model = model.double()"
      ],
      "execution_count": 0,
      "outputs": []
    },
    {
      "metadata": {
        "id": "AgykA3Ebm9Yh",
        "colab_type": "text"
      },
      "cell_type": "markdown",
      "source": [
        "**Using learning rate 1e-4 and Adam optimizer, SGD didn't converge well**"
      ]
    },
    {
      "metadata": {
        "id": "qpWR56OLb_8t",
        "colab_type": "code",
        "colab": {}
      },
      "cell_type": "code",
      "source": [
        "epochs=100000\n",
        "lr = 1e-4\n",
        "opt = torch.optim.Adam(params=model.parameters(), lr = lr)\n",
        "loss_fn = torch.nn.MSELoss()"
      ],
      "execution_count": 0,
      "outputs": []
    },
    {
      "metadata": {
        "id": "93IacEyVcHGc",
        "colab_type": "code",
        "colab": {
          "base_uri": "https://localhost:8080/",
          "height": 187
        },
        "outputId": "2051ebf3-f799-4ecb-a9f3-9cfa5709da8c"
      },
      "cell_type": "code",
      "source": [
        "for t in range(epochs):\n",
        "  y_pred = model(x)\n",
        "  loss = loss_fn(y_pred, y)\n",
        "  if t%10000==0:\n",
        "    print(t, loss.item())\n",
        "  opt.zero_grad()\n",
        "  loss.backward()\n",
        "  opt.step()\n",
        "  "
      ],
      "execution_count": 40,
      "outputs": [
        {
          "output_type": "stream",
          "text": [
            "0 23.586192095447924\n",
            "10000 8.049044861791778\n",
            "20000 1.833462718133586\n",
            "30000 0.1534232257714742\n",
            "40000 8.503552411808079e-10\n",
            "50000 2.0543252740130515e-33\n",
            "60000 0.0\n",
            "70000 0.0\n",
            "80000 0.0\n",
            "90000 0.0\n"
          ],
          "name": "stdout"
        }
      ]
    },
    {
      "metadata": {
        "id": "05Vs87h1nMzU",
        "colab_type": "text"
      },
      "cell_type": "markdown",
      "source": [
        "** Now predict Y for 10.0 ( y= 2x-1 = 2*10 -1 = 19) **"
      ]
    },
    {
      "metadata": {
        "id": "35VTc3QXdkXf",
        "colab_type": "code",
        "colab": {
          "base_uri": "https://localhost:8080/",
          "height": 34
        },
        "outputId": "60cd6096-bf8f-4dee-b2bb-411e3105b79c"
      },
      "cell_type": "code",
      "source": [
        "print(model(torch.DoubleTensor([10.0])))"
      ],
      "execution_count": 44,
      "outputs": [
        {
          "output_type": "stream",
          "text": [
            "tensor([19.], dtype=torch.float64, grad_fn=<AddBackward0>)\n"
          ],
          "name": "stdout"
        }
      ]
    },
    {
      "metadata": {
        "id": "JqyuvSN3fWf4",
        "colab_type": "code",
        "colab": {}
      },
      "cell_type": "code",
      "source": [
        ""
      ],
      "execution_count": 0,
      "outputs": []
    }
  ]
}
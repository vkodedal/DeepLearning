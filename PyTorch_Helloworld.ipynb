{
  "nbformat": 4,
  "nbformat_minor": 0,
  "metadata": {
    "colab": {
      "name": "PyTorch_Helloworld.ipynb",
      "version": "0.3.2",
      "provenance": [],
      "collapsed_sections": []
    },
    "kernelspec": {
      "name": "python3",
      "display_name": "Python 3"
    }
  },
  "cells": [
    {
      "metadata": {
        "id": "7V1WokwwmiZo",
        "colab_type": "text"
      },
      "cell_type": "markdown",
      "source": [
        "** Simple pytorch program with a linear layer **"
      ]
    },
    {
      "metadata": {
        "id": "nLuXbLeaZ9U4",
        "colab_type": "code",
        "colab": {}
      },
      "cell_type": "code",
      "source": [
        "import torch\n",
        "import numpy as np\n",
        "import torch.optim"
      ],
      "execution_count": 0,
      "outputs": []
    },
    {
      "metadata": {
        "id": "GDhtNOAgaH8A",
        "colab_type": "code",
        "colab": {}
      },
      "cell_type": "code",
      "source": [
        "xs = np.array([-1.0,  0.0, 1.0, 2.0, 3.0, 4.0], dtype=float)\n",
        "ys = np.array([-3.0, -1.0, 1.0, 3.0, 5.0, 7.0], dtype=float)"
      ],
      "execution_count": 0,
      "outputs": []
    },
    {
      "metadata": {
        "id": "esjZ_vpHgOcO",
        "colab_type": "text"
      },
      "cell_type": "markdown",
      "source": [
        "**Reshape both input and output variables to batchsize * input dim **"
      ]
    },
    {
      "metadata": {
        "id": "W0U16NlOaTWQ",
        "colab_type": "code",
        "colab": {}
      },
      "cell_type": "code",
      "source": [
        "xs = xs.reshape(6,1)\n",
        "ys = ys.reshape(6,1)"
      ],
      "execution_count": 0,
      "outputs": []
    },
    {
      "metadata": {
        "id": "zmnSu99cmaq9",
        "colab_type": "text"
      },
      "cell_type": "markdown",
      "source": [
        "**Convert numpy ndarrays to pytorch Tensors**"
      ]
    },
    {
      "metadata": {
        "id": "G8IzvcwXdrzs",
        "colab_type": "code",
        "colab": {}
      },
      "cell_type": "code",
      "source": [
        "x = torch.from_numpy(xs)\n",
        "y = torch.from_numpy(ys)"
      ],
      "execution_count": 0,
      "outputs": []
    },
    {
      "metadata": {
        "id": "J60SSbSfa1Js",
        "colab_type": "code",
        "colab": {}
      },
      "cell_type": "code",
      "source": [
        "model = torch.nn.Sequential(torch.nn.Linear(1,1))"
      ],
      "execution_count": 0,
      "outputs": []
    },
    {
      "metadata": {
        "id": "BamNSOVwmxXP",
        "colab_type": "text"
      },
      "cell_type": "markdown",
      "source": [
        "**pytorch is considering x and y as doubles, changing model to use double**"
      ]
    },
    {
      "metadata": {
        "id": "YbSGCmIHd1K0",
        "colab_type": "code",
        "colab": {}
      },
      "cell_type": "code",
      "source": [
        "model = model.double()"
      ],
      "execution_count": 0,
      "outputs": []
    },
    {
      "metadata": {
        "id": "AgykA3Ebm9Yh",
        "colab_type": "text"
      },
      "cell_type": "markdown",
      "source": [
        "**Using learning rate 1e-4 and Adam optimizer, SGD didn't converge well**"
      ]
    },
    {
      "metadata": {
        "id": "qpWR56OLb_8t",
        "colab_type": "code",
        "colab": {}
      },
      "cell_type": "code",
      "source": [
        "epochs=100000\n",
        "lr = 1e-4\n",
        "opt = torch.optim.SGD(params=model.parameters(), lr = lr)\n",
        "loss_fn = torch.nn.MSELoss()"
      ],
      "execution_count": 0,
      "outputs": []
    },
    {
      "metadata": {
        "id": "93IacEyVcHGc",
        "colab_type": "code",
        "outputId": "10a24b8e-771e-4150-cdf0-26655fbb0d3f",
        "colab": {
          "base_uri": "https://localhost:8080/",
          "height": 187
        }
      },
      "cell_type": "code",
      "source": [
        "for t in range(epochs):\n",
        "  y_pred = model(x)\n",
        "  loss = loss_fn(y_pred, y)\n",
        "  if t%10000==0:\n",
        "    print(t, loss.item())\n",
        "  opt.zero_grad()\n",
        "  loss.backward()\n",
        "  opt.step()\n",
        "  "
      ],
      "execution_count": 0,
      "outputs": [
        {
          "output_type": "stream",
          "text": [
            "0 29.718224594274243\n",
            "10000 0.4080627170488733\n",
            "20000 0.05175885287805009\n",
            "30000 0.0065651155216329485\n",
            "40000 0.0008327221222219366\n",
            "50000 0.00010562283794594359\n",
            "60000 1.3397246930334574e-05\n",
            "70000 1.6993126562711924e-06\n",
            "80000 2.1554156005066449e-07\n",
            "90000 2.733938568400631e-08\n"
          ],
          "name": "stdout"
        }
      ]
    },
    {
      "metadata": {
        "id": "05Vs87h1nMzU",
        "colab_type": "text"
      },
      "cell_type": "markdown",
      "source": [
        "** Now predict Y for 10.0 ( y= 2x-1 = 2*10 -1 = 19) **"
      ]
    },
    {
      "metadata": {
        "id": "35VTc3QXdkXf",
        "colab_type": "code",
        "outputId": "0aef5f16-8790-4d35-fc1d-f75afb472488",
        "colab": {
          "base_uri": "https://localhost:8080/",
          "height": 34
        }
      },
      "cell_type": "code",
      "source": [
        "print(model(torch.DoubleTensor([10.0])))"
      ],
      "execution_count": 0,
      "outputs": [
        {
          "output_type": "stream",
          "text": [
            "tensor([18.9998], dtype=torch.float64, grad_fn=<AddBackward0>)\n"
          ],
          "name": "stdout"
        }
      ]
    },
    {
      "metadata": {
        "id": "JqyuvSN3fWf4",
        "colab_type": "code",
        "colab": {}
      },
      "cell_type": "code",
      "source": [
        ""
      ],
      "execution_count": 0,
      "outputs": []
    }
  ]
}